{
 "cells": [
  {
   "cell_type": "markdown",
   "metadata": {},
   "source": [
    "# Name : Dohyun Kwon\n",
    "# Student ID : 2018120191\n",
    "# github repository: https://github.com/hilariouss/assignment04.git"
   ]
  },
  {
   "cell_type": "markdown",
   "metadata": {},
   "source": [
    "1. Load library and initialize parameters regarding data file (MNIST) and size related parameters"
   ]
  },
  {
   "cell_type": "code",
   "execution_count": 1,
   "metadata": {},
   "outputs": [],
   "source": [
    "import matplotlib.pyplot as plt\n",
    "import numpy as np\n",
    "import random\n",
    "import math\n",
    "from scipy.spatial import distance\n",
    "file_data = \"mnist_test.csv\"\n",
    "handle_file = open(file_data, \"r\")\n",
    "data = handle_file.readlines()\n",
    "handle_file.close()\n",
    "\n",
    "k = 10\n",
    "size_row = 28  # height of the image\n",
    "size_col = 28  # width of the image\n",
    "\n",
    "num_image = len(data) # 10,000"
   ]
  },
  {
   "cell_type": "markdown",
   "metadata": {},
   "source": [
    "2. define 'normalize' function"
   ]
  },
  {
   "cell_type": "code",
   "execution_count": 2,
   "metadata": {},
   "outputs": [],
   "source": [
    "def normalize(data):\n",
    "    data_normalized = (data - min(data)) / (max(data) - min(data))\n",
    "    return (data_normalized)"
   ]
  },
  {
   "cell_type": "markdown",
   "metadata": {},
   "source": [
    "3. define 'computeDistance' function"
   ]
  },
  {
   "cell_type": "code",
   "execution_count": 3,
   "metadata": {},
   "outputs": [],
   "source": [
    "def computeDistance(x, y):\n",
    "    # dst = math.sqrt(sum([(x-y)**2 for x,y in zip(x,y)]))\n",
    "    # dst = np.linalg.norm(x-y)\n",
    "    dst = distance.euclidean(x, y)\n",
    "    return dst"
   ]
  },
  {
   "cell_type": "markdown",
   "metadata": {},
   "source": [
    "4. define 'initialiseLabel' function"
   ]
  },
  {
   "cell_type": "code",
   "execution_count": 4,
   "metadata": {},
   "outputs": [],
   "source": [
    "def initialiseLabel():\n",
    "    \"\"\"\"\"\n",
    "    Initialize label value\n",
    "    \"\"\"\"\"\n",
    "    list_label = np.random.randint(0, k, size=num_image)\n",
    "    return list_label"
   ]
  },
  {
   "cell_type": "markdown",
   "metadata": {},
   "source": [
    "5. define 'computeCentroid' function"
   ]
  },
  {
   "cell_type": "code",
   "execution_count": 5,
   "metadata": {},
   "outputs": [],
   "source": [
    "def computeCentroid(list_image_pixel, list_label_iter, list_centroid_pixel):\n",
    "    \"\"\"\"\"\n",
    "    return a new centroid set\n",
    "    \"\"\"\"\"\n",
    "    # 1. centroid 0번부터 자신의 라벨에 해당하는 점들 평균내서 거기로 이동\n",
    "    # centroid\n",
    "    centroid_sum_row = np.zeros(size_row*size_col, dtype=float)\n",
    "    count = 0\n",
    "    for i in range(k):\n",
    "        for j in range(num_image):\n",
    "            if list_label_iter[j] == i: # list_centroid_pixel의 해당 위치에 속하는 list_label_iter라면\n",
    "                centroid_sum_row += list_image_pixel[j, :]\n",
    "                count += 1\n",
    "        list_centroid_pixel[i, :] = centroid_sum_row / count\n",
    "        count = 0\n",
    "        centroid_sum_row = np.zeros(size_row*size_col, dtype=float)\n",
    "    return list_centroid_pixel"
   ]
  },
  {
   "cell_type": "markdown",
   "metadata": {},
   "source": [
    "6. define 'assignLabel' function"
   ]
  },
  {
   "cell_type": "code",
   "execution_count": 6,
   "metadata": {},
   "outputs": [],
   "source": [
    "def assignLabel(list_image_pixel, list_label_iter, list_centroid_pixel):\n",
    "    \"\"\"\"\"\n",
    "    Allocate new label to list_label_iter based on the distance between images and centroid\n",
    "    \"\"\"\"\"\n",
    "    distance = np.zeros(k, dtype=float)\n",
    "    for i in range(num_image):\n",
    "        candidate = []\n",
    "        for j in range(k):\n",
    "            distance[j] = computeDistance(list_image_pixel[i], list_centroid_pixel[j])\n",
    "        min_idx = np.argmin(distance) # distance 값중에 가장 작은 인덱스 추출\n",
    "        for j in range(k):\n",
    "            if distance[min_idx] == distance[j]:\n",
    "                candidate.append(j) # 인덱스 저장\n",
    "        candidate = np.array(candidate)\n",
    "        choice = random.choice(candidate)\n",
    "        list_label_iter[i] = choice\n",
    "        distance = np.zeros(k, dtype=float)\n",
    "\n",
    "    return list_label_iter"
   ]
  },
  {
   "cell_type": "markdown",
   "metadata": {},
   "source": [
    "7. define 'computeAccuracy' function"
   ]
  },
  {
   "cell_type": "code",
   "execution_count": 7,
   "metadata": {},
   "outputs": [],
   "source": [
    "def computeAccuracy(list_label_real, list_label_iter, list_image_pixel, list_centroid_pixel):\n",
    "    # 1. 원본데이터 라벨별로 평균내기\n",
    "    Avg_list_image_pixel = np.zeros((k, size_row * size_col), dtype=float)\n",
    "    count = 0\n",
    "    for j in range(k):\n",
    "        for i in range(num_image):\n",
    "            if list_label_real[i] == j:\n",
    "                Avg_list_image_pixel[j, :] += list_image_pixel[i, :]\n",
    "                count += 1\n",
    "        Avg_list_image_pixel[j, :] /= count\n",
    "        count = 0\n",
    "    # Avg_list_image_pixel[0] : 0을 진짜 label로 갖는 이미지들의 평균 값\n",
    "\n",
    "    # 2. 평균낸 원본 데이터와 centroid의 거리 비교해서 각 인덱스에 대한 centroid가\n",
    "    # 어떤 진짜 라벨과 가장 가까운지 파악\n",
    "    list_transform_label = np.zeros(k, dtype=int)  # 변환 centroid 라벨 저장 배열\n",
    "    list_distance = np.zeros(k, dtype=float)  # 거리 계산용\n",
    "\n",
    "    for i in range(k):\n",
    "        for j in range(k):\n",
    "            list_distance[j] = computeDistance(Avg_list_image_pixel[j], list_centroid_pixel[i])\n",
    "\n",
    "        list_transform_label[i] = np.argmin(list_distance)\n",
    "        list_distance = np.zeros(k, dtype=float)\n",
    "    # list_transform_label : centroid의 변환된 라벨 값\n",
    "\n",
    "    # 3. 이후 그 인덱스에 대한 라벨을 list_label_iter과 비교\n",
    "    list_label_transformed = list_label_iter\n",
    "\n",
    "    for i in range(num_image):\n",
    "        list_label_transformed[i] = list_transform_label[list_label_iter[i]]\n",
    "\n",
    "    # list_label_transformed 와 list_label_real의 일치도 비교\n",
    "    count = 0\n",
    "    for i in range(num_image):\n",
    "        if list_label_transformed[i] == list_label_real[i]:\n",
    "            count += 1\n",
    "    Accuracy = count / num_image\n",
    "    return Accuracy"
   ]
  },
  {
   "cell_type": "markdown",
   "metadata": {},
   "source": [
    "8. define 'computeEnergy' function"
   ]
  },
  {
   "cell_type": "code",
   "execution_count": 8,
   "metadata": {},
   "outputs": [],
   "source": [
    "def computeEnergy(list_image_pixel, list_centroid_pixel, list_label_iter):\n",
    "    EnergySum = 0\n",
    "    for i in range(num_image):\n",
    "        EnergySum += computeDistance(list_image_pixel[i, :], list_centroid_pixel[list_label_iter[i], :])\n",
    "    #EnergyAvg = EnergySum / num_image\n",
    "    return EnergySum"
   ]
  },
  {
   "cell_type": "markdown",
   "metadata": {},
   "source": [
    "9. define 'plot_centroid_images' function"
   ]
  },
  {
   "cell_type": "code",
   "execution_count": 9,
   "metadata": {},
   "outputs": [],
   "source": [
    "def plot_centroid_images(images):\n",
    "    f3 = plt.figure(3)\n",
    "    for i in range(k):\n",
    "        plt.subplot(2, k/2, i + 1)\n",
    "        plt.title(i)\n",
    "        plt.imshow(images[i, :].reshape((size_row, size_col)), cmap='Greys', interpolation='None')\n",
    "\n",
    "        frame = plt.gca()\n",
    "        frame.axes.get_xaxis().set_visible(False)\n",
    "        frame.axes.get_yaxis().set_visible(False)\n",
    "    plt.show()"
   ]
  },
  {
   "cell_type": "markdown",
   "metadata": {},
   "source": [
    "10. define 'plot_centroid_history' function"
   ]
  },
  {
   "cell_type": "code",
   "execution_count": 10,
   "metadata": {},
   "outputs": [],
   "source": [
    "def plot_centroid_history(history):\n",
    "    f4 = plt.figure(4)\n",
    "    plt.plot(history)\n",
    "    plt.show()"
   ]
  },
  {
   "cell_type": "markdown",
   "metadata": {},
   "source": [
    "11. Initialize the iteration settings and centroid settings"
   ]
  },
  {
   "cell_type": "code",
   "execution_count": 11,
   "metadata": {},
   "outputs": [],
   "source": [
    "list_image_pixel = np.empty((num_image, size_row * size_col), dtype=float)  # For image data\n",
    "list_label_real = np.empty(num_image, dtype=int)  # For REAL label\n",
    "\n",
    "list_label_iter = initialiseLabel()         # For iter label\n",
    "list_label_iter_prev = initialiseLabel()    # For iter label (prev)\n",
    "\n",
    "# <Centroid>\n",
    "list_centroid_pixel = np.empty((k, size_row * size_col), dtype=float) # For centroid pixel\n",
    "\n",
    "# 1. data 읽어서 list_image_pixel, list_label_real 초기화 ok\n",
    "i = 0\n",
    "for line in data:\n",
    "    line_data = line.split(',')\n",
    "    list_label_real[i] = line_data[0] # REAL image label\n",
    "\n",
    "    im_vector = np.asfarray(line_data[1:]) # image digits\n",
    "    im_vector = normalize(im_vector)       # image normalize\n",
    "    list_image_pixel[i, :] = im_vector\n",
    "    i += 1\n",
    "\n",
    "# 2. Centroid 초기화 ok\n",
    "index = np.random.randint(0, num_image, size=k) # 1 x k\n",
    "for i in range(k):\n",
    "    list_centroid_pixel[i, :] = list_image_pixel[index[i], :]\n",
    "\n",
    "Initial_centroid = list_image_pixel\n",
    "\n",
    "loop_count = 0\n",
    "End_Condition = False\n",
    "before_accuracy = 0\n",
    "before_energy = 0\n",
    "accuracy_histogram = []\n",
    "energy_histogram = []"
   ]
  },
  {
   "cell_type": "markdown",
   "metadata": {},
   "source": [
    "12. Iterate until the accuracy and energy do not change anymore.\n",
    "(Note that the intermediate results including label value of each image, transition of centroid, accuracy, and energy were set not to show for simplicity. However, the final results with loop count, accuracy, and energy are given as follows.) "
   ]
  },
  {
   "cell_type": "code",
   "execution_count": 12,
   "metadata": {},
   "outputs": [
    {
     "name": "stdout",
     "output_type": "stream",
     "text": [
      "Termination !\n",
      "****************************************\n",
      "k-means clustering for MNIST data set is completed with 51 steps !!\n",
      "Final accuracy: 0.6051\n",
      "Final energy: 80415.29547369134\n",
      "****************************************\n"
     ]
    }
   ],
   "source": [
    "# 3. iteration\n",
    "while True:\n",
    "    # Store the current label\n",
    "    #list_label_iter_prev = list_label_iter\n",
    "\n",
    "    # 0. print the loop count\n",
    "    #print(\"*\" * 70)                        # log ignore\n",
    "    #print('Loop count ' + str(loop_count)) # log ignore\n",
    "    #print(\"*\" * 70)                        # log ignore\n",
    "    list_label_iter = assignLabel(list_image_pixel, list_label_iter, list_centroid_pixel)\n",
    "    #print(list_label_iter)                 # log ignore\n",
    "    #print(list_label_iter_prev)            # log ignore\n",
    "    # 2. 새로운 센트로이드 이동 !!!\n",
    "    #print(\"Move the centroids...\")         # log ignore\n",
    "    list_centroid_pixel = computeCentroid(list_image_pixel, list_label_iter, list_centroid_pixel)\n",
    "\n",
    "    # 1. 점들의 라벨값 할당\n",
    "    #print(\"New label allocation completed\")# log ignore\n",
    "    list_label_iter = assignLabel(list_image_pixel, list_label_iter, list_centroid_pixel)\n",
    "\n",
    "    # 3. 정확도 계산 !!!\n",
    "    #print(\"Calculating the accuracy...\")   # log ignore\n",
    "    accuracy = computeAccuracy(list_label_real, list_label_iter, list_image_pixel, list_centroid_pixel)\n",
    "    #print('accuracy : ')                   # log ignore\n",
    "    #print(accuracy)                        # log ignore\n",
    "\n",
    "    # 4. 에너지 계산\n",
    "    #print(\"Evaluate energy...\")            # log ignore\n",
    "    energy = computeEnergy(list_image_pixel, list_centroid_pixel, list_label_iter)\n",
    "    #print('Energy : ')                     # log ignore\n",
    "    #print(energy)                          # log ignore\n",
    "\n",
    "    accuracy_histogram.append(accuracy)\n",
    "    energy_histogram.append(energy)\n",
    "\n",
    "    if(before_accuracy == accuracy) and (before_energy == energy):\n",
    "        print(\"Termination !\")\n",
    "\n",
    "        break\n",
    "    before_energy = energy\n",
    "    before_accuracy = accuracy\n",
    "    loop_count += 1\n",
    "\n",
    "print(\"*\"*40)\n",
    "print(\"k-means clustering for MNIST data set is completed with \" + str(loop_count) + \" steps !!\")\n",
    "print(\"Final accuracy: \" + str(accuracy))\n",
    "print(\"Final energy: \" + str(energy))\n",
    "print(\"*\"*40)"
   ]
  },
  {
   "cell_type": "markdown",
   "metadata": {},
   "source": [
    "13. Plot the first requirement (Initial centroid plot)"
   ]
  },
  {
   "cell_type": "code",
   "execution_count": 13,
   "metadata": {},
   "outputs": [
    {
     "data": {
      "image/png": "[encoded data removed]",
      "text/plain": [
       "<Figure size 432x288 with 10 Axes>"
      ]
     },
     "metadata": {},
     "output_type": "display_data"
    }
   ],
   "source": [
    "plot_centroid_images(Initial_centroid)"
   ]
  },
  {
   "cell_type": "markdown",
   "metadata": {},
   "source": [
    "14. Plot the second requirement (Final centroid plot)"
   ]
  },
  {
   "cell_type": "code",
   "execution_count": 14,
   "metadata": {},
   "outputs": [
    {
     "data": {
      "image/png": "[encoded data removed]",
      "text/plain": [
       "<Figure size 432x288 with 10 Axes>"
      ]
     },
     "metadata": {},
     "output_type": "display_data"
    }
   ],
   "source": [
    "plot_centroid_images(list_centroid_pixel)"
   ]
  },
  {
   "cell_type": "markdown",
   "metadata": {},
   "source": [
    "15. Plot the third requirement (Accuracy histogram)"
   ]
  },
  {
   "cell_type": "code",
   "execution_count": 15,
   "metadata": {},
   "outputs": [
    {
     "data": {
      "image/png": "[encoded data removed]",
      "text/plain": [
       "<Figure size 432x288 with 1 Axes>"
      ]
     },
     "metadata": {},
     "output_type": "display_data"
    }
   ],
   "source": [
    "plot_centroid_history(accuracy_histogram)"
   ]
  },
  {
   "cell_type": "markdown",
   "metadata": {},
   "source": [
    "16. Plot the fourth requirement (Energy histogram)"
   ]
  },
  {
   "cell_type": "code",
   "execution_count": 16,
   "metadata": {},
   "outputs": [
    {
     "data": {
      "image/png": "[encoded data removed]",
      "text/plain": [
       "<Figure size 432x288 with 1 Axes>"
      ]
     },
     "metadata": {},
     "output_type": "display_data"
    }
   ],
   "source": [
    "plot_centroid_history(energy_histogram)"
   ]
  },
  {
   "cell_type": "code",
   "execution_count": null,
   "metadata": {},
   "outputs": [],
   "source": []
  }
 ],
 "metadata": {
  "kernelspec": {
   "display_name": "Python 3",
   "language": "python",
   "name": "python3"
  },
  "language_info": {
   "codemirror_mode": {
    "name": "ipython",
    "version": 3
   },
   "file_extension": ".py",
   "mimetype": "text/x-python",
   "name": "python",
   "nbconvert_exporter": "python",
   "pygments_lexer": "ipython3",
   "version": "3.6.5"
  }
 },
 "nbformat": 4,
 "nbformat_minor": 2
}
